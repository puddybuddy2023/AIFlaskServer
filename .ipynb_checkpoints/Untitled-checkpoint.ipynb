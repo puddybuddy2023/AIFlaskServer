{
 "cells": [
  {
   "cell_type": "code",
   "execution_count": 1,
   "id": "1cbc3ac0-ab9a-4292-8b6e-df72d90d23bf",
   "metadata": {},
   "outputs": [
    {
     "name": "stdout",
     "output_type": "stream",
     "text": [
      "Collecting Pillow==9.5.0\n",
      "  Downloading Pillow-9.5.0-cp39-cp39-win_amd64.whl (2.5 MB)\n",
      "Installing collected packages: Pillow\n",
      "  Attempting uninstall: Pillow\n",
      "    Found existing installation: Pillow 8.4.0\n",
      "    Uninstalling Pillow-8.4.0:\n",
      "Note: you may need to restart the kernel to use updated packages.\n"
     ]
    },
    {
     "name": "stderr",
     "output_type": "stream",
     "text": [
      "ERROR: Could not install packages due to an OSError: [WinError 5] 액세스가 거부되었습니다: 'c:\\\\programdata\\\\anaconda3\\\\lib\\\\site-packages\\\\pil\\\\BdfFontFile.py'\n",
      "Consider using the `--user` option or check the permissions.\n",
      "\n"
     ]
    }
   ],
   "source": [
    "pip install Pillow==9.5.0\n"
   ]
  },
  {
   "cell_type": "code",
   "execution_count": 4,
   "id": "63f2a303",
   "metadata": {},
   "outputs": [
    {
     "name": "stdout",
     "output_type": "stream",
     "text": [
      "\n",
      "Usage:   \n",
      "  C:\\ProgramData\\Anaconda3\\python.exe -m pip <command> [options]\n",
      "\n",
      "Commands:\n",
      "  install                     Install packages.\n",
      "  download                    Download packages.Note: you may need to restart the kernel to use updated packages.\n",
      "  uninstall                   Uninstall packages.\n",
      "  freeze                      Output installed packages in requirements format.\n",
      "  list                        List installed packages.\n",
      "  show                        Show information about installed packages.\n",
      "  check                       Verify installed packages have compatible dependencies.\n",
      "  config                      Manage local and global configuration.\n",
      "  search                      Search PyPI for packages.\n",
      "  cache                       Inspect and manage pip's wheel cache.\n",
      "  index                       Inspect information available from package indexes.\n",
      "  wheel                       Build wheels from your requirements.\n",
      "  hash                        Compute hashes of package archives.\n",
      "  completion                  A helper command used for command completion.\n",
      "  debug                       Show information useful for debugging.\n",
      "  help                        Show help for commands.\n",
      "\n",
      "General Options:\n",
      "  -h, --help                  Show help.\n",
      "  --isolated                  Run pip in an isolated mode, ignoring\n",
      "                              environment variables and user configuration.\n",
      "  -v, --verbose               Give more output. Option is additive, and can be\n",
      "                              used up to 3 times.\n",
      "\n",
      "  -V, --version               Show version and exit.\n",
      "  -q, --quiet                 Give less output. Option is additive, and can be\n",
      "                              used up to 3 times (corresponding to WARNING,\n",
      "                              ERROR, and CRITICAL logging levels).\n",
      "  --log <path>                Path to a verbose appending log.\n",
      "  --no-input                  Disable prompting for input.\n",
      "  --proxy <proxy>             Specify a proxy in the form\n",
      "                              [user:passwd@]proxy.server:port.\n",
      "  --retries <retries>         Maximum number of retries each connection should\n",
      "                              attempt (default 5 times).\n",
      "  --timeout <sec>             Set the socket timeout (default 15 seconds).\n",
      "  --exists-action <action>    Default action when a path already exists:\n",
      "                              (s)witch, (i)gnore, (w)ipe, (b)ackup, (a)bort.\n",
      "  --trusted-host <hostname>   Mark this host or host:port pair as trusted,\n",
      "                              even though it does not have valid or any HTTPS.\n",
      "  --cert <path>               Path to PEM-encoded CA certificate bundle. If\n",
      "                              provided, overrides the default. See 'SSL\n",
      "                              Certificate Verification' in pip documentation\n",
      "                              for more information.\n",
      "  --client-cert <path>        Path to SSL client certificate, a single file\n",
      "                              containing the private key and the certificate\n",
      "                              in PEM format.\n",
      "  --cache-dir <dir>           Store the cache data in <dir>.\n",
      "  --no-cache-dir              Disable the cache.\n",
      "  --disable-pip-version-check\n",
      "                              Don't periodically check PyPI to determine\n",
      "                              whether a new version of pip is available for\n",
      "                              download. Implied with --no-index.\n",
      "  --no-color                  Suppress colored output.\n",
      "  --no-python-version-warning\n",
      "                              Silence deprecation warnings for upcoming\n",
      "                              unsupported Pythons.\n",
      "  --use-feature <feature>     Enable new functionality, that may be backward\n",
      "                              incompatible.\n",
      "  --use-deprecated <feature>  Enable deprecated functionality, that will be\n",
      "                              removed in the future.\n"
     ]
    }
   ],
   "source": []
  },
  {
   "cell_type": "code",
   "execution_count": null,
   "id": "1496ba64",
   "metadata": {},
   "outputs": [],
   "source": []
  },
  {
   "cell_type": "code",
   "execution_count": null,
   "id": "0aac8363",
   "metadata": {},
   "outputs": [],
   "source": [
    "conda create -n flask"
   ]
  },
  {
   "cell_type": "code",
   "execution_count": 1,
   "id": "519f2a61-103c-45c9-bdd4-f0b9d6754f95",
   "metadata": {},
   "outputs": [
    {
     "name": "stdout",
     "output_type": "stream",
     "text": [
      "3.11.5 (tags/v3.11.5:cce6ba9, Aug 24 2023, 14:38:34) [MSC v.1936 64 bit (AMD64)]\n"
     ]
    }
   ],
   "source": [
    "import sys\n",
    "print(sys.version)\n"
   ]
  },
  {
   "cell_type": "code",
   "execution_count": 3,
   "id": "f57370af-c47d-41be-977a-7ccf1bc852ba",
   "metadata": {},
   "outputs": [
    {
     "name": "stdout",
     "output_type": "stream",
     "text": [
      "Requirement already satisfied: opencv-python in /Users/haejangjang/anaconda3/lib/python3.11/site-packages (4.8.1.78)\n",
      "Requirement already satisfied: numpy>=1.21.2 in /Users/haejangjang/anaconda3/lib/python3.11/site-packages (from opencv-python) (1.24.3)\n",
      "Note: you may need to restart the kernel to use updated packages.\n"
     ]
    }
   ],
   "source": [
    "pip install opencv-python\n"
   ]
  },
  {
   "cell_type": "code",
   "execution_count": 4,
   "id": "f9051123-256e-46fe-b1d4-23f8079402b0",
   "metadata": {},
   "outputs": [
    {
     "name": "stdout",
     "output_type": "stream",
     "text": [
      "Requirement already satisfied: matplotlib in /Users/haejangjang/anaconda3/lib/python3.11/site-packages (3.8.0)\n",
      "Requirement already satisfied: contourpy>=1.0.1 in /Users/haejangjang/anaconda3/lib/python3.11/site-packages (from matplotlib) (1.2.0)\n",
      "Requirement already satisfied: cycler>=0.10 in /Users/haejangjang/anaconda3/lib/python3.11/site-packages (from matplotlib) (0.11.0)\n",
      "Requirement already satisfied: fonttools>=4.22.0 in /Users/haejangjang/anaconda3/lib/python3.11/site-packages (from matplotlib) (4.25.0)\n",
      "Requirement already satisfied: kiwisolver>=1.0.1 in /Users/haejangjang/anaconda3/lib/python3.11/site-packages (from matplotlib) (1.4.4)\n",
      "Requirement already satisfied: numpy<2,>=1.21 in /Users/haejangjang/anaconda3/lib/python3.11/site-packages (from matplotlib) (1.24.3)\n",
      "Requirement already satisfied: packaging>=20.0 in /Users/haejangjang/anaconda3/lib/python3.11/site-packages (from matplotlib) (23.1)\n",
      "Requirement already satisfied: pillow>=6.2.0 in /Users/haejangjang/anaconda3/lib/python3.11/site-packages (from matplotlib) (9.5.0)\n",
      "Requirement already satisfied: pyparsing>=2.3.1 in /Users/haejangjang/anaconda3/lib/python3.11/site-packages (from matplotlib) (3.0.9)\n",
      "Requirement already satisfied: python-dateutil>=2.7 in /Users/haejangjang/anaconda3/lib/python3.11/site-packages (from matplotlib) (2.8.2)\n",
      "Requirement already satisfied: six>=1.5 in /Users/haejangjang/anaconda3/lib/python3.11/site-packages (from python-dateutil>=2.7->matplotlib) (1.16.0)\n",
      "Note: you may need to restart the kernel to use updated packages.\n"
     ]
    }
   ],
   "source": [
    "pip install matplotlib\n"
   ]
  },
  {
   "cell_type": "code",
   "execution_count": 5,
   "id": "0ad2824b-539e-4821-820c-4621371eb39a",
   "metadata": {},
   "outputs": [
    {
     "name": "stdout",
     "output_type": "stream",
     "text": [
      "Requirement already satisfied: tensorflow==2.15.0 in /Users/haejangjang/anaconda3/lib/python3.11/site-packages (2.15.0)\n",
      "Requirement already satisfied: tensorflow-macos==2.15.0 in /Users/haejangjang/anaconda3/lib/python3.11/site-packages (from tensorflow==2.15.0) (2.15.0)\n",
      "Requirement already satisfied: absl-py>=1.0.0 in /Users/haejangjang/anaconda3/lib/python3.11/site-packages (from tensorflow-macos==2.15.0->tensorflow==2.15.0) (2.0.0)\n",
      "Requirement already satisfied: astunparse>=1.6.0 in /Users/haejangjang/anaconda3/lib/python3.11/site-packages (from tensorflow-macos==2.15.0->tensorflow==2.15.0) (1.6.3)\n",
      "Requirement already satisfied: flatbuffers>=23.5.26 in /Users/haejangjang/anaconda3/lib/python3.11/site-packages (from tensorflow-macos==2.15.0->tensorflow==2.15.0) (23.5.26)\n",
      "Requirement already satisfied: gast!=0.5.0,!=0.5.1,!=0.5.2,>=0.2.1 in /Users/haejangjang/anaconda3/lib/python3.11/site-packages (from tensorflow-macos==2.15.0->tensorflow==2.15.0) (0.5.4)\n",
      "Requirement already satisfied: google-pasta>=0.1.1 in /Users/haejangjang/anaconda3/lib/python3.11/site-packages (from tensorflow-macos==2.15.0->tensorflow==2.15.0) (0.2.0)\n",
      "Requirement already satisfied: h5py>=2.9.0 in /Users/haejangjang/anaconda3/lib/python3.11/site-packages (from tensorflow-macos==2.15.0->tensorflow==2.15.0) (3.9.0)\n",
      "Requirement already satisfied: libclang>=13.0.0 in /Users/haejangjang/anaconda3/lib/python3.11/site-packages (from tensorflow-macos==2.15.0->tensorflow==2.15.0) (16.0.6)\n",
      "Requirement already satisfied: ml-dtypes~=0.2.0 in /Users/haejangjang/anaconda3/lib/python3.11/site-packages (from tensorflow-macos==2.15.0->tensorflow==2.15.0) (0.2.0)\n",
      "Requirement already satisfied: numpy<2.0.0,>=1.23.5 in /Users/haejangjang/anaconda3/lib/python3.11/site-packages (from tensorflow-macos==2.15.0->tensorflow==2.15.0) (1.24.3)\n",
      "Requirement already satisfied: opt-einsum>=2.3.2 in /Users/haejangjang/anaconda3/lib/python3.11/site-packages (from tensorflow-macos==2.15.0->tensorflow==2.15.0) (3.3.0)\n",
      "Requirement already satisfied: packaging in /Users/haejangjang/anaconda3/lib/python3.11/site-packages (from tensorflow-macos==2.15.0->tensorflow==2.15.0) (23.1)\n",
      "Collecting protobuf!=4.21.0,!=4.21.1,!=4.21.2,!=4.21.3,!=4.21.4,!=4.21.5,<5.0.0dev,>=3.20.3 (from tensorflow-macos==2.15.0->tensorflow==2.15.0)\n",
      "  Obtaining dependency information for protobuf!=4.21.0,!=4.21.1,!=4.21.2,!=4.21.3,!=4.21.4,!=4.21.5,<5.0.0dev,>=3.20.3 from https://files.pythonhosted.org/packages/e6/db/7b2edc72807d45d72f9db42f3eb86ddaf37f9e55d923159b1dbfc9d835bc/protobuf-4.25.1-cp37-abi3-macosx_10_9_universal2.whl.metadata\n",
      "  Using cached protobuf-4.25.1-cp37-abi3-macosx_10_9_universal2.whl.metadata (541 bytes)\n",
      "Requirement already satisfied: setuptools in /Users/haejangjang/anaconda3/lib/python3.11/site-packages (from tensorflow-macos==2.15.0->tensorflow==2.15.0) (68.0.0)\n",
      "Requirement already satisfied: six>=1.12.0 in /Users/haejangjang/anaconda3/lib/python3.11/site-packages (from tensorflow-macos==2.15.0->tensorflow==2.15.0) (1.16.0)\n",
      "Requirement already satisfied: termcolor>=1.1.0 in /Users/haejangjang/anaconda3/lib/python3.11/site-packages (from tensorflow-macos==2.15.0->tensorflow==2.15.0) (2.3.0)\n",
      "Requirement already satisfied: typing-extensions>=3.6.6 in /Users/haejangjang/anaconda3/lib/python3.11/site-packages (from tensorflow-macos==2.15.0->tensorflow==2.15.0) (4.7.1)\n",
      "Requirement already satisfied: wrapt<1.15,>=1.11.0 in /Users/haejangjang/anaconda3/lib/python3.11/site-packages (from tensorflow-macos==2.15.0->tensorflow==2.15.0) (1.14.1)\n",
      "Requirement already satisfied: tensorflow-io-gcs-filesystem>=0.23.1 in /Users/haejangjang/anaconda3/lib/python3.11/site-packages (from tensorflow-macos==2.15.0->tensorflow==2.15.0) (0.34.0)\n",
      "Requirement already satisfied: grpcio<2.0,>=1.24.3 in /Users/haejangjang/anaconda3/lib/python3.11/site-packages (from tensorflow-macos==2.15.0->tensorflow==2.15.0) (1.59.3)\n",
      "Requirement already satisfied: tensorboard<2.16,>=2.15 in /Users/haejangjang/anaconda3/lib/python3.11/site-packages (from tensorflow-macos==2.15.0->tensorflow==2.15.0) (2.15.1)\n",
      "Requirement already satisfied: tensorflow-estimator<2.16,>=2.15.0 in /Users/haejangjang/anaconda3/lib/python3.11/site-packages (from tensorflow-macos==2.15.0->tensorflow==2.15.0) (2.15.0)\n",
      "Requirement already satisfied: keras<2.16,>=2.15.0 in /Users/haejangjang/anaconda3/lib/python3.11/site-packages (from tensorflow-macos==2.15.0->tensorflow==2.15.0) (2.15.0)\n",
      "Requirement already satisfied: wheel<1.0,>=0.23.0 in /Users/haejangjang/anaconda3/lib/python3.11/site-packages (from astunparse>=1.6.0->tensorflow-macos==2.15.0->tensorflow==2.15.0) (0.38.4)\n",
      "Requirement already satisfied: google-auth<3,>=1.6.3 in /Users/haejangjang/anaconda3/lib/python3.11/site-packages (from tensorboard<2.16,>=2.15->tensorflow-macos==2.15.0->tensorflow==2.15.0) (2.23.4)\n",
      "Requirement already satisfied: google-auth-oauthlib<2,>=0.5 in /Users/haejangjang/anaconda3/lib/python3.11/site-packages (from tensorboard<2.16,>=2.15->tensorflow-macos==2.15.0->tensorflow==2.15.0) (1.1.0)\n",
      "Requirement already satisfied: markdown>=2.6.8 in /Users/haejangjang/anaconda3/lib/python3.11/site-packages (from tensorboard<2.16,>=2.15->tensorflow-macos==2.15.0->tensorflow==2.15.0) (3.4.1)\n",
      "  Obtaining dependency information for protobuf!=4.21.0,!=4.21.1,!=4.21.2,!=4.21.3,!=4.21.4,!=4.21.5,<5.0.0dev,>=3.20.3 from https://files.pythonhosted.org/packages/cb/d3/a164038605494d49acc4f9cda1c0bc200b96382c53edd561387263bb181d/protobuf-4.23.4-cp37-abi3-macosx_10_9_universal2.whl.metadata\n",
      "  Using cached protobuf-4.23.4-cp37-abi3-macosx_10_9_universal2.whl.metadata (540 bytes)\n",
      "Requirement already satisfied: requests<3,>=2.21.0 in /Users/haejangjang/anaconda3/lib/python3.11/site-packages (from tensorboard<2.16,>=2.15->tensorflow-macos==2.15.0->tensorflow==2.15.0) (2.31.0)\n",
      "Requirement already satisfied: tensorboard-data-server<0.8.0,>=0.7.0 in /Users/haejangjang/anaconda3/lib/python3.11/site-packages (from tensorboard<2.16,>=2.15->tensorflow-macos==2.15.0->tensorflow==2.15.0) (0.7.2)\n",
      "Requirement already satisfied: werkzeug>=1.0.1 in /Users/haejangjang/anaconda3/lib/python3.11/site-packages (from tensorboard<2.16,>=2.15->tensorflow-macos==2.15.0->tensorflow==2.15.0) (2.2.3)\n",
      "Requirement already satisfied: cachetools<6.0,>=2.0.0 in /Users/haejangjang/anaconda3/lib/python3.11/site-packages (from google-auth<3,>=1.6.3->tensorboard<2.16,>=2.15->tensorflow-macos==2.15.0->tensorflow==2.15.0) (5.3.2)\n",
      "Requirement already satisfied: pyasn1-modules>=0.2.1 in /Users/haejangjang/anaconda3/lib/python3.11/site-packages (from google-auth<3,>=1.6.3->tensorboard<2.16,>=2.15->tensorflow-macos==2.15.0->tensorflow==2.15.0) (0.2.8)\n",
      "Requirement already satisfied: rsa<5,>=3.1.4 in /Users/haejangjang/anaconda3/lib/python3.11/site-packages (from google-auth<3,>=1.6.3->tensorboard<2.16,>=2.15->tensorflow-macos==2.15.0->tensorflow==2.15.0) (4.9)\n",
      "Requirement already satisfied: requests-oauthlib>=0.7.0 in /Users/haejangjang/anaconda3/lib/python3.11/site-packages (from google-auth-oauthlib<2,>=0.5->tensorboard<2.16,>=2.15->tensorflow-macos==2.15.0->tensorflow==2.15.0) (1.3.1)\n",
      "Requirement already satisfied: charset-normalizer<4,>=2 in /Users/haejangjang/anaconda3/lib/python3.11/site-packages (from requests<3,>=2.21.0->tensorboard<2.16,>=2.15->tensorflow-macos==2.15.0->tensorflow==2.15.0) (2.0.4)\n",
      "Requirement already satisfied: idna<4,>=2.5 in /Users/haejangjang/anaconda3/lib/python3.11/site-packages (from requests<3,>=2.21.0->tensorboard<2.16,>=2.15->tensorflow-macos==2.15.0->tensorflow==2.15.0) (3.4)\n",
      "Requirement already satisfied: urllib3<3,>=1.21.1 in /Users/haejangjang/anaconda3/lib/python3.11/site-packages (from requests<3,>=2.21.0->tensorboard<2.16,>=2.15->tensorflow-macos==2.15.0->tensorflow==2.15.0) (1.26.18)\n",
      "Requirement already satisfied: certifi>=2017.4.17 in /Users/haejangjang/anaconda3/lib/python3.11/site-packages (from requests<3,>=2.21.0->tensorboard<2.16,>=2.15->tensorflow-macos==2.15.0->tensorflow==2.15.0) (2023.11.17)\n",
      "Requirement already satisfied: MarkupSafe>=2.1.1 in /Users/haejangjang/anaconda3/lib/python3.11/site-packages (from werkzeug>=1.0.1->tensorboard<2.16,>=2.15->tensorflow-macos==2.15.0->tensorflow==2.15.0) (2.1.1)\n",
      "Requirement already satisfied: pyasn1<0.5.0,>=0.4.6 in /Users/haejangjang/anaconda3/lib/python3.11/site-packages (from pyasn1-modules>=0.2.1->google-auth<3,>=1.6.3->tensorboard<2.16,>=2.15->tensorflow-macos==2.15.0->tensorflow==2.15.0) (0.4.8)\n",
      "Requirement already satisfied: oauthlib>=3.0.0 in /Users/haejangjang/anaconda3/lib/python3.11/site-packages (from requests-oauthlib>=0.7.0->google-auth-oauthlib<2,>=0.5->tensorboard<2.16,>=2.15->tensorflow-macos==2.15.0->tensorflow==2.15.0) (3.2.2)\n",
      "Using cached protobuf-4.23.4-cp37-abi3-macosx_10_9_universal2.whl (400 kB)\n",
      "Installing collected packages: protobuf\n",
      "  Attempting uninstall: protobuf\n",
      "    Found existing installation: protobuf 3.20.0\n",
      "    Uninstalling protobuf-3.20.0:\n",
      "      Successfully uninstalled protobuf-3.20.0\n",
      "Successfully installed protobuf-4.23.4\n",
      "Note: you may need to restart the kernel to use updated packages.\n"
     ]
    }
   ],
   "source": [
    "pip install tensorflow==2.15.0"
   ]
  },
  {
   "cell_type": "code",
   "execution_count": 6,
   "id": "39902d87-7c97-4050-b782-ae4e4ec51c76",
   "metadata": {},
   "outputs": [
    {
     "name": "stdout",
     "output_type": "stream",
     "text": [
      "Collecting protobuf==3.20.0\n",
      "  Using cached protobuf-3.20.0-py2.py3-none-any.whl (162 kB)\n",
      "Installing collected packages: protobuf\n",
      "  Attempting uninstall: protobuf\n",
      "    Found existing installation: protobuf 4.23.4\n",
      "    Uninstalling protobuf-4.23.4:\n",
      "      Successfully uninstalled protobuf-4.23.4\n",
      "\u001b[31mERROR: pip's dependency resolver does not currently take into account all the packages that are installed. This behaviour is the source of the following dependency conflicts.\n",
      "tensorflow-macos 2.15.0 requires protobuf!=4.21.0,!=4.21.1,!=4.21.2,!=4.21.3,!=4.21.4,!=4.21.5,<5.0.0dev,>=3.20.3, but you have protobuf 3.20.0 which is incompatible.\u001b[0m\u001b[31m\n",
      "\u001b[0mSuccessfully installed protobuf-3.20.0\n",
      "Note: you may need to restart the kernel to use updated packages.\n"
     ]
    }
   ],
   "source": [
    "pip install protobuf==3.20.0\n"
   ]
  },
  {
   "cell_type": "code",
   "execution_count": 2,
   "id": "8fbe5350-d525-4b94-a72e-fd9737faa6c4",
   "metadata": {},
   "outputs": [
    {
     "name": "stdout",
     "output_type": "stream",
     "text": [
      "WARNING:tensorflow:From C:\\Users\\Haisely\\Desktop\\AIFlaskServer\\myenv\\Lib\\site-packages\\keras\\src\\losses.py:2976: The name tf.losses.sparse_softmax_cross_entropy is deprecated. Please use tf.compat.v1.losses.sparse_softmax_cross_entropy instead.\n",
      "\n"
     ]
    }
   ],
   "source": [
    "\n",
    "import os\n",
    "import cv2\n",
    "import numpy as np\n",
    "import tensorflow.compat.v1 as tf\n",
    "import sys\n",
    "import matplotlib.pyplot as plt\n"
   ]
  },
  {
   "cell_type": "code",
   "execution_count": 11,
   "id": "513810de-80a8-4895-892a-76f2f741c526",
   "metadata": {},
   "outputs": [],
   "source": [
    "\n",
    "# This is needed since the notebook is stored in the object_detection folder.\n",
    "sys.path.append(\"..\")\n",
    "\n",
    "# Import utilites\n",
    "from utils import label_map_util\n",
    "from utils import visualization_utils as vis_util\n",
    "\n",
    "# Name of the directory containing the object detection module we're using\n",
    "MODEL_NAME = 'inference_graph'\n",
    "IMAGE_NAME = '/assets/images/1.jpeg\"'"
   ]
  },
  {
   "cell_type": "code",
   "execution_count": 12,
   "id": "732d14e4-2824-4800-8262-2ca6673c3d50",
   "metadata": {},
   "outputs": [],
   "source": [
    "\n",
    "# Grab path to current working directory\n",
    "CWD_PATH = os.getcwd()\n",
    "\n",
    "# Path to frozen detection graph .pb file, which contains the model that is used\n",
    "# for object detection.\n",
    "PATH_TO_CKPT = os.path.join(CWD_PATH,'frozen_inference_graph.pb')\n",
    "\n",
    "# Path to label map file\n",
    "PATH_TO_LABELS = os.path.join(CWD_PATH,'labelmap.pbtxt')\n",
    "\n",
    "# Path to image\n",
    "PATH_TO_IMAGE = os.path.join(CWD_PATH,IMAGE_NAME)"
   ]
  },
  {
   "cell_type": "code",
   "execution_count": 13,
   "id": "33ca4f44-4b43-438f-ba86-d5538209d296",
   "metadata": {},
   "outputs": [],
   "source": [
    "\n",
    "# Number of classes the object detector can identify\n",
    "NUM_CLASSES = 4\n",
    "\n",
    "# Load the label map.\n",
    "# Label maps map indices to category names, so that when our convolution\n",
    "# network predicts `5`, we know that this corresponds to `king`.\n",
    "# Here we use internal utility functions, but anything that returns a\n",
    "# dictionary mapping integers to appropriate string labels would be fine\n",
    "label_map = label_map_util.load_labelmap(PATH_TO_LABELS)\n",
    "categories = label_map_util.convert_label_map_to_categories(label_map, max_num_classes=NUM_CLASSES, use_display_name=True)\n",
    "category_index = label_map_util.create_category_index(categories)\n",
    "\n",
    "# Load the Tensorflow model into memory.\n",
    "detection_graph = tf.Graph()\n",
    "with detection_graph.as_default():\n",
    "    od_graph_def = tf.GraphDef()\n",
    "    with tf.gfile.GFile(PATH_TO_CKPT, 'rb') as fid:\n",
    "        serialized_graph = fid.read()\n",
    "        od_graph_def.ParseFromString(serialized_graph)\n",
    "        tf.import_graph_def(od_graph_def, name='')\n",
    "\n",
    "    sess = tf.Session(graph=detection_graph)\n",
    "\n",
    "# Define input and output tensors (i.e. data) for the object detection classifier"
   ]
  },
  {
   "cell_type": "code",
   "execution_count": 17,
   "id": "90c323cd-9cac-45f0-b4bd-2f9c177611ba",
   "metadata": {},
   "outputs": [],
   "source": [
    "\n",
    "# Input tensor is the image\n",
    "image_tensor = detection_graph.get_tensor_by_name('image_tensor:0')\n",
    "\n",
    "# Output tensors are the detection boxes, scores, and classes\n",
    "# Each box represents a part of the image where a particular object was detected\n",
    "detection_boxes = detection_graph.get_tensor_by_name('detection_boxes:0')\n",
    "\n",
    "# Each score represents level of confidence for each of the objects.\n",
    "# The score is shown on the result image, together with the class label.\n",
    "detection_scores = detection_graph.get_tensor_by_name('detection_scores:0')\n",
    "detection_classes = detection_graph.get_tensor_by_name('detection_classes:0')\n",
    "\n",
    "# Number of objects detected\n",
    "num_detections = detection_graph.get_tensor_by_name('num_detections:0')\n",
    "\n",
    "# Load image using OpenCV and\n",
    "# expand image dimensions to have shape: [1, None, None, 3]\n",
    "# i.e. a single-column array, where each item in the column has the pixel RGB value\n",
    "# 이미지 읽기\n",
    "image = cv2.imread(\"assets/images/1.jpeg\")\n",
    "\n",
    "image = cv2.cvtColor(image, cv2.COLOR_BGR2RGB)\n",
    "\n",
    "# 이미지의 높이와 너비 가져오기\n",
    "height, width = image.shape[:2]\n",
    "\n",
    "# 자를 크기 결정 (가로와 세로 중 더 작은 값)\n",
    "crop_size = min(height, width)\n",
    "\n",
    "# 가운데 좌표 계산\n",
    "start_x = (width - crop_size) // 2\n",
    "start_y = (height - crop_size) // 2\n",
    "\n",
    "# 이미지의 중앙을 기준으로 정사각형 모양으로 자르기\n",
    "cropped_image = image[start_y:start_y+crop_size, start_x:start_x+crop_size]\n",
    "\n",
    "# 이미지 크기 조정\n",
    "image = cv2.resize(cropped_image, (400, 400), interpolation=cv2.INTER_AREA)\n",
    "\n",
    "\n",
    "imageNP = np.copy(image)\n",
    "\n",
    "\n",
    "image_expanded = np.expand_dims(image, axis=0)\n",
    "\n",
    "# Perform the actual detection by running the model with the image as input\n",
    "(boxes, scores, classes, num) = sess.run(\n",
    "    [detection_boxes, detection_scores, detection_classes, num_detections],\n",
    "    feed_dict={image_tensor: image_expanded})\n"
   ]
  },
  {
   "cell_type": "code",
   "execution_count": 18,
   "id": "67b878f5-d90f-4ce8-b721-b2627ca8612a",
   "metadata": {},
   "outputs": [],
   "source": [
    "\n",
    "# Draw the results of the detection (aka 'visulaize the results')\n",
    "\n",
    "array, boxes, tags = vis_util.visualize_boxes_and_labels_on_image_array(\n",
    "    image,\n",
    "    np.squeeze(boxes),\n",
    "    np.squeeze(classes).astype(np.int32),\n",
    "    np.squeeze(scores),\n",
    "    category_index,\n",
    "    use_normalized_coordinates=True,\n",
    "    line_thickness=2,\n",
    "    min_score_thresh=0.60)\n"
   ]
  },
  {
   "cell_type": "code",
   "execution_count": 13,
   "id": "0eb635b8-ee4d-4084-9c6e-97275c8fdef1",
   "metadata": {},
   "outputs": [
    {
     "data": {
      "text/plain": [
       "[['leg: 99%'], ['face: 99%']]"
      ]
     },
     "execution_count": 13,
     "metadata": {},
     "output_type": "execute_result"
    }
   ],
   "source": [
    "tags"
   ]
  },
  {
   "cell_type": "code",
   "execution_count": 14,
   "id": "92b51c0d-2d3c-4885-9f24-5323a7ad47fb",
   "metadata": {},
   "outputs": [
    {
     "data": {
      "text/plain": [
       "[(0.6510400772094727,\n",
       "  0.43254411220550537,\n",
       "  0.8345097303390503,\n",
       "  0.7140800356864929),\n",
       " (0.30129945278167725,\n",
       "  0.37948381900787354,\n",
       "  0.5372962951660156,\n",
       "  0.6386375427246094)]"
      ]
     },
     "execution_count": 14,
     "metadata": {},
     "output_type": "execute_result"
    }
   ],
   "source": [
    "boxes"
   ]
  },
  {
   "cell_type": "code",
   "execution_count": 19,
   "id": "584e7139-1e1a-4a89-95b7-cd47281005b5",
   "metadata": {},
   "outputs": [],
   "source": [
    "data = {}\n",
    "\n",
    "for tag, box in zip(tags, boxes):\n",
    "    tag_name = tag[0].split(': ')[0]  # 태그에서 이름 추출 (예: 'leg')\n",
    "    data[tag_name] = box"
   ]
  },
  {
   "cell_type": "code",
   "execution_count": 20,
   "id": "b7226b5c-4567-49ad-8734-6d787c00c99b",
   "metadata": {},
   "outputs": [],
   "source": [
    "import math"
   ]
  },
  {
   "cell_type": "code",
   "execution_count": 21,
   "id": "184de65d-b438-4c90-922c-496756d815d7",
   "metadata": {},
   "outputs": [],
   "source": [
    "def calculate_angle(box1, box2):\n",
    "    # 각 박스의 중심 지점 계산\n",
    "    center_box1 = ((box1[1] + box1[3]) / 2, (box1[0] + box1[2]) / 2)\n",
    "    center_box2 = ((box2[1] + box2[3]) / 2, (box2[0] + box2[2]) / 2)\n",
    "    \n",
    "    # 두 중심을 연결하는 선의 기울기 계산\n",
    "    slope = (center_box2[1] - center_box1[1]) / (center_box2[0] - center_box1[0])\n",
    "    \n",
    "    # y축과의 각도 계산 (라디안 값을 돌려주므로 이를 degree로 변환)\n",
    "    angle_radians = math.atan(slope)\n",
    "    angle_degrees = math.degrees(angle_radians)\n",
    "    \n",
    "    return 90- angle_degrees "
   ]
  },
  {
   "cell_type": "code",
   "execution_count": 22,
   "id": "1429c206-fc0d-47b9-b472-943a62b4b855",
   "metadata": {},
   "outputs": [],
   "source": [
    "def calculate_midpoint(box1, box2):\n",
    "    # 각 박스의 중심 지점 계산\n",
    "    center_box1 = ((box1[1] + box1[3]) / 2, (box1[0] + box1[2]) / 2)\n",
    "    center_box2 = ((box2[1] + box2[3]) / 2, (box2[0] + box2[2]) / 2)\n",
    "\n",
    "    \n",
    "    # 두 중심을 연결하는 선의 중점 계산\n",
    "    midpoint = ((center_box1[0] + center_box2[0]) / 2, (center_box1[1] + center_box2[1]) / 2)\n",
    "    \n",
    "    return midpoint"
   ]
  },
  {
   "cell_type": "code",
   "execution_count": 23,
   "id": "f6aee84f-b32a-48e1-9a10-b8e7509e5c56",
   "metadata": {},
   "outputs": [],
   "source": [
    "angle = calculate_angle(data['face'], data['leg'])"
   ]
  },
  {
   "cell_type": "code",
   "execution_count": 24,
   "id": "8977f47d-1fc5-4140-9b5b-e4f7daa86180",
   "metadata": {},
   "outputs": [
    {
     "data": {
      "text/plain": [
       "11.234279534051524"
      ]
     },
     "execution_count": 24,
     "metadata": {},
     "output_type": "execute_result"
    }
   ],
   "source": [
    "angle"
   ]
  },
  {
   "cell_type": "code",
   "execution_count": 25,
   "id": "12afb466-b418-4f72-99f9-2d67937c45cf",
   "metadata": {},
   "outputs": [],
   "source": [
    "midpoint = calculate_midpoint(data['leg'], data['face'])"
   ]
  },
  {
   "cell_type": "code",
   "execution_count": 26,
   "id": "1aadfb1f-e984-44e9-ab36-c3be99c02f53",
   "metadata": {},
   "outputs": [
    {
     "data": {
      "text/plain": [
       "(0.5411863848567009, 0.5810363963246346)"
      ]
     },
     "execution_count": 26,
     "metadata": {},
     "output_type": "execute_result"
    }
   ],
   "source": [
    "midpoint"
   ]
  },
  {
   "cell_type": "code",
   "execution_count": 27,
   "id": "e70230ce-ef26-4ff0-8e17-fb55fa1c0214",
   "metadata": {},
   "outputs": [],
   "source": [
    "def calculate_size(box1, box2):\n",
    "    height = box2[0] - box1[2]\n",
    "    width = box1[3] - box1[1]\n",
    "    return width*400*0.9, height*400*1.2"
   ]
  },
  {
   "cell_type": "code",
   "execution_count": 28,
   "id": "6aa0e507-664b-4af4-b1e1-be0bc7de18a8",
   "metadata": {},
   "outputs": [],
   "source": [
    "_width, _height = calculate_size(data['face'], data['leg'])"
   ]
  },
  {
   "cell_type": "code",
   "execution_count": 29,
   "id": "1cbdcb16-685e-4dea-a675-afc871687f2c",
   "metadata": {},
   "outputs": [
    {
     "data": {
      "text/plain": [
       "93.29530835151672"
      ]
     },
     "execution_count": 29,
     "metadata": {},
     "output_type": "execute_result"
    }
   ],
   "source": [
    "_width"
   ]
  },
  {
   "cell_type": "code",
   "execution_count": 30,
   "id": "62949db6-0fb5-41b2-9ebe-47bd13d3b520",
   "metadata": {},
   "outputs": [
    {
     "data": {
      "text/plain": [
       "54.597015380859375"
      ]
     },
     "execution_count": 30,
     "metadata": {},
     "output_type": "execute_result"
    }
   ],
   "source": [
    "_height"
   ]
  },
  {
   "cell_type": "code",
   "execution_count": 31,
   "id": "989a5065-7578-439b-8263-1236b44b437e",
   "metadata": {},
   "outputs": [],
   "source": [
    "point = (int(midpoint[0]*400-_width/2), int((midpoint[1]*400-_height/2)*1.1))"
   ]
  },
  {
   "cell_type": "code",
   "execution_count": 32,
   "id": "bcf79b33-86c9-4cb7-826c-3140322cfb12",
   "metadata": {},
   "outputs": [
    {
     "data": {
      "text/plain": [
       "(169, 225)"
      ]
     },
     "execution_count": 32,
     "metadata": {},
     "output_type": "execute_result"
    }
   ],
   "source": [
    "point"
   ]
  },
  {
   "cell_type": "code",
   "execution_count": 33,
   "id": "6d7dea97-fa52-48c2-b07f-9e362aa3ad3d",
   "metadata": {},
   "outputs": [],
   "source": [
    "from PIL import Image\n",
    "import numpy as np"
   ]
  },
  {
   "cell_type": "code",
   "execution_count": 34,
   "id": "4e740a8b-98d9-4f4e-9709-6f7540638037",
   "metadata": {},
   "outputs": [],
   "source": [
    "import numpy as np\n",
    "from PIL import Image, ImageFilter"
   ]
  },
  {
   "cell_type": "code",
   "execution_count": 37,
   "id": "b5629070-a560-4bcf-ab28-a5f076c646ed",
   "metadata": {},
   "outputs": [],
   "source": [
    "# 이미지 크기는 항상 400 x 400\n",
    "# Xs = []\n",
    "# Ys = []\n",
    "# points = []\n",
    "\n",
    "# for i in range(4):\n",
    "#   point = (x[i] * im_width, y[i] * im_height)\n",
    "#   points.append(point)\n",
    "\n",
    "# point = (x * im_width, y * im_height)\n",
    "\n",
    "_image = np.copy(imageNP)\n",
    "\n",
    "# 이미지 파일 불러오기 (이미지 크기는 10x10에 맞춰야 함)\n",
    "image_path = \"assets/clothes/76.png\"  # 삽입할 이미지 파일 경로\n",
    "insert_image = Image.open(image_path)\n",
    "\n",
    "# 이미지 회전 및 변환\n",
    "insert_image = insert_image.rotate(angle, resample=Image.BICUBIC)  # 회전\n",
    "insert_image = insert_image.resize((int(_width), int(_height)), resample=Image.BICUBIC)  # 크기 조절\n",
    "\n",
    "\n",
    "# Pillow(PIL) 이미지로 변환\n",
    "pillow_image = Image.fromarray(_image)\n",
    "\n",
    "\n",
    "# 이미지 합성\n",
    "pillow_image.paste(insert_image, point, mask=insert_image)\n",
    "\n",
    "\n",
    "# 다시 numpy 배열로 변환\n",
    "_image = np.array(pillow_image)\n",
    "\n",
    "# 합성된 이미지 표시 혹은 저장\n",
    "Image.fromarray(_image).show()  # 이미지 표시\n"
   ]
  },
  {
   "cell_type": "code",
   "execution_count": 31,
   "id": "67493c7f-3803-46e1-8ac4-f81864bead6f",
   "metadata": {},
   "outputs": [],
   "source": [
    "\n",
    "# # All the results have been drawn on image. Now display the image.\n",
    "# cv2.imshow('Object detector', image)\n",
    "\n",
    "\n",
    "# # Press any key to close the image\n",
    "# cv2.waitKey(0)\n",
    "\n",
    "# # Clean up\n",
    "# cv2.destroyAllWindows()\n"
   ]
  }
 ],
 "metadata": {
  "kernelspec": {
   "display_name": "Python 3 (ipykernel)",
   "language": "python",
   "name": "python3"
  },
  "language_info": {
   "codemirror_mode": {
    "name": "ipython",
    "version": 3
   },
   "file_extension": ".py",
   "mimetype": "text/x-python",
   "name": "python",
   "nbconvert_exporter": "python",
   "pygments_lexer": "ipython3",
   "version": "3.11.5"
  }
 },
 "nbformat": 4,
 "nbformat_minor": 5
}
